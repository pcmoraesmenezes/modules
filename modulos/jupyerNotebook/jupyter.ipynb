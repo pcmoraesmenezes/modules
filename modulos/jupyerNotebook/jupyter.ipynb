{
 "cells": [
  {
   "cell_type": "markdown",
   "id": "16ef30e6-84e2-459d-b150-12f618795267",
   "metadata": {},
   "source": [
    "# Título\n",
    "Essa linha cria a variavel `a`"
   ]
  },
  {
   "cell_type": "code",
   "execution_count": 5,
   "id": "aee81c12-3adb-4c4f-8fd6-ee4f7019da1e",
   "metadata": {},
   "outputs": [],
   "source": [
    "a = 2"
   ]
  },
  {
   "cell_type": "code",
   "execution_count": 6,
   "id": "3607263d-6915-4125-b1d5-fbfdd8a3c338",
   "metadata": {},
   "outputs": [
    {
     "data": {
      "text/plain": [
       "2"
      ]
     },
     "execution_count": 6,
     "metadata": {},
     "output_type": "execute_result"
    }
   ],
   "source": [
    "a"
   ]
  },
  {
   "cell_type": "markdown",
   "id": "4bd9a37a-97b6-4fbf-91c3-bca80a6ba1e3",
   "metadata": {},
   "source": [
    "Essa linha cria uma váriavel com o dobro do valor de `a`"
   ]
  },
  {
   "cell_type": "code",
   "execution_count": 7,
   "id": "6e8a6f0e-5d0e-4ff8-9e57-9e4d70d760bf",
   "metadata": {},
   "outputs": [],
   "source": [
    "b = 2 * a"
   ]
  },
  {
   "cell_type": "code",
   "execution_count": 8,
   "id": "c2aaa0d6-add5-41f0-821c-b25b1ebbddf6",
   "metadata": {},
   "outputs": [
    {
     "data": {
      "text/plain": [
       "4"
      ]
     },
     "execution_count": 8,
     "metadata": {},
     "output_type": "execute_result"
    }
   ],
   "source": [
    "b"
   ]
  },
  {
   "cell_type": "code",
   "execution_count": null,
   "id": "ccbb952b-f9ed-431f-89b1-738c79653f72",
   "metadata": {},
   "outputs": [],
   "source": []
  }
 ],
 "metadata": {
  "kernelspec": {
   "display_name": "Python 3 (ipykernel)",
   "language": "python",
   "name": "python3"
  },
  "language_info": {
   "codemirror_mode": {
    "name": "ipython",
    "version": 3
   },
   "file_extension": ".py",
   "mimetype": "text/x-python",
   "name": "python",
   "nbconvert_exporter": "python",
   "pygments_lexer": "ipython3",
   "version": "3.8.10"
  }
 },
 "nbformat": 4,
 "nbformat_minor": 5
}
